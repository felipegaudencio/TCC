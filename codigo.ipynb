{
 "cells": [
  {
   "cell_type": "code",
   "execution_count": null,
   "id": "83c6379a",
   "metadata": {},
   "outputs": [],
   "source": [
    "import pandas as pd"
   ]
  },
  {
   "cell_type": "code",
   "execution_count": null,
   "id": "2dd4bced",
   "metadata": {},
   "outputs": [],
   "source": [
    "df_consulta = pd.read_csv(\"consulta_cand_2020_BRASIL.csv\", encoding = \"Latin 1\", sep = \";\", decimal = \",\")"
   ]
  },
  {
   "cell_type": "code",
   "execution_count": null,
   "id": "4caf60cb",
   "metadata": {},
   "outputs": [],
   "source": [
    "df_consulta.info()"
   ]
  },
  {
   "cell_type": "code",
   "execution_count": null,
   "id": "0f0944d2",
   "metadata": {},
   "outputs": [],
   "source": [
    "df_consulta['DS_SITUACAO_CANDIDATURA'].unique()"
   ]
  },
  {
   "cell_type": "code",
   "execution_count": null,
   "id": "59679365",
   "metadata": {},
   "outputs": [],
   "source": [
    "df_consulta = df_consulta[df_consulta.DS_SITUACAO_CANDIDATURA.isin(['APTO'])]"
   ]
  },
  {
   "cell_type": "code",
   "execution_count": null,
   "id": "9e9b888d",
   "metadata": {},
   "outputs": [],
   "source": [
    "df_consulta.info()"
   ]
  },
  {
   "cell_type": "code",
   "execution_count": null,
   "id": "514ab0a9",
   "metadata": {},
   "outputs": [],
   "source": [
    "df_consulta = df_consulta[['SQ_CANDIDATO','NR_IDADE_DATA_POSSE','DS_GENERO','DS_GRAU_INSTRUCAO',\n",
    "                           'DS_ESTADO_CIVIL','DS_COR_RACA','DS_SIT_TOT_TURNO','VR_DESPESA_MAX_CAMPANHA']]"
   ]
  },
  {
   "cell_type": "code",
   "execution_count": null,
   "id": "9f6a1977",
   "metadata": {},
   "outputs": [],
   "source": [
    "df_consulta.info()"
   ]
  },
  {
   "cell_type": "code",
   "execution_count": null,
   "id": "d6628fbd",
   "metadata": {},
   "outputs": [],
   "source": [
    "df_consulta.isnull().sum()"
   ]
  },
  {
   "cell_type": "code",
   "execution_count": null,
   "id": "874d9c33",
   "metadata": {},
   "outputs": [],
   "source": [
    "df_bem = pd.read_csv(\"bem_candidato_2020_BRASIL.csv\", encoding = \"Latin 1\", sep = \";\", decimal = \",\")"
   ]
  },
  {
   "cell_type": "code",
   "execution_count": null,
   "id": "d2667a37",
   "metadata": {},
   "outputs": [],
   "source": [
    "df_bem.info()"
   ]
  },
  {
   "cell_type": "code",
   "execution_count": null,
   "id": "91f0c669",
   "metadata": {},
   "outputs": [],
   "source": [
    "df_bem = df_bem[['SQ_CANDIDATO','DS_TIPO_BEM_CANDIDATO','DS_BEM_CANDIDATO','VR_BEM_CANDIDATO']]"
   ]
  },
  {
   "cell_type": "code",
   "execution_count": null,
   "id": "8b0c0b88",
   "metadata": {},
   "outputs": [],
   "source": [
    "df_bem.info()"
   ]
  },
  {
   "cell_type": "code",
   "execution_count": null,
   "id": "ed05e5a9",
   "metadata": {},
   "outputs": [],
   "source": [
    "df_bem.isnull().sum()"
   ]
  },
  {
   "cell_type": "code",
   "execution_count": null,
   "id": "2907446e",
   "metadata": {},
   "outputs": [],
   "source": [
    "df_despesas_contratadas = pd.read_csv(\"despesas_contratadas_candidatos_2020_BRASIL.csv\", \n",
    "                                      encoding = \"Latin 1\", sep = \";\", decimal = \",\")"
   ]
  },
  {
   "cell_type": "code",
   "execution_count": null,
   "id": "ee81c6b5",
   "metadata": {},
   "outputs": [],
   "source": [
    "df_despesas_contratadas.info()"
   ]
  },
  {
   "cell_type": "code",
   "execution_count": null,
   "id": "0fd1a93f",
   "metadata": {},
   "outputs": [],
   "source": [
    "df_despesas_contratadas = df_despesas_contratadas[['SQ_DESPESA','SQ_CANDIDATO','DS_DESPESA','VR_DESPESA_CONTRATADA']]"
   ]
  },
  {
   "cell_type": "code",
   "execution_count": null,
   "id": "fcfdd666",
   "metadata": {},
   "outputs": [],
   "source": [
    "df_despesas_contratadas.info()"
   ]
  },
  {
   "cell_type": "code",
   "execution_count": null,
   "id": "c5dc842d",
   "metadata": {},
   "outputs": [],
   "source": [
    "df_despesas_contratadas.isnull().sum()"
   ]
  },
  {
   "cell_type": "code",
   "execution_count": null,
   "id": "cf5f4ac1",
   "metadata": {},
   "outputs": [],
   "source": [
    "df_despesas_paga = pd.read_csv(\"despesas_pagas_candidatos_2020_BRASIL.csv\", \n",
    "                               encoding = \"Latin 1\", sep = \";\", decimal = \",\")"
   ]
  },
  {
   "cell_type": "code",
   "execution_count": null,
   "id": "be1b4609",
   "metadata": {},
   "outputs": [],
   "source": [
    "df_despesas_paga.info()"
   ]
  },
  {
   "cell_type": "code",
   "execution_count": null,
   "id": "c937f340",
   "metadata": {},
   "outputs": [],
   "source": [
    "df_despesas_paga = df_despesas_paga[['SQ_DESPESA','VR_PAGTO_DESPESA']]"
   ]
  },
  {
   "cell_type": "code",
   "execution_count": null,
   "id": "f81281de",
   "metadata": {},
   "outputs": [],
   "source": [
    "df_despesas_paga.isnull().sum()"
   ]
  },
  {
   "cell_type": "code",
   "execution_count": null,
   "id": "4b7a4f6d",
   "metadata": {},
   "outputs": [],
   "source": [
    "from collections import Counter\n",
    "import matplotlib.pyplot as plt"
   ]
  },
  {
   "cell_type": "code",
   "execution_count": null,
   "id": "f84def75",
   "metadata": {},
   "outputs": [],
   "source": [
    "df_consulta['DS_SIT_TOT_TURNO'].unique()"
   ]
  },
  {
   "cell_type": "code",
   "execution_count": null,
   "id": "e43d95b1",
   "metadata": {},
   "outputs": [],
   "source": [
    "df_consulta_eleitos = df_consulta[df_consulta.DS_SIT_TOT_TURNO.isin(['ELEITO POR MÉDIA','ELEITO POR QP'])]"
   ]
  },
  {
   "cell_type": "code",
   "execution_count": null,
   "id": "a1bbef65",
   "metadata": {},
   "outputs": [],
   "source": [
    "df_consulta_eleitos.info()"
   ]
  },
  {
   "cell_type": "code",
   "execution_count": null,
   "id": "fa0f93e2",
   "metadata": {},
   "outputs": [],
   "source": [
    "genero_candidatos = Counter(df_consulta['DS_GENERO'])"
   ]
  },
  {
   "cell_type": "code",
   "execution_count": null,
   "id": "2fbb3bc7",
   "metadata": {},
   "outputs": [],
   "source": [
    "genero_candidatos"
   ]
  },
  {
   "cell_type": "code",
   "execution_count": null,
   "id": "c835359b",
   "metadata": {},
   "outputs": [],
   "source": [
    "genero_candidato_eleitos = Counter(df_consulta_eleitos['DS_GENERO'])"
   ]
  },
  {
   "cell_type": "code",
   "execution_count": null,
   "id": "786ba187",
   "metadata": {},
   "outputs": [],
   "source": [
    "genero_candidato_eleitos"
   ]
  },
  {
   "cell_type": "code",
   "execution_count": null,
   "id": "c0e7c21d",
   "metadata": {},
   "outputs": [],
   "source": [
    "plt.style.use('default')\n",
    "plt.pie(genero_candidatos.values(), labels = genero_candidatos.keys(),\n",
    "        autopct = '%1.1f%%', textprops={'fontsize':'16'})\n",
    "plt.axis(\"image\")\n",
    "plt.title(\"GÊNERO DOS CANDIDATOS\",fontsize = 18)\n",
    "plt.tight_layout()\n",
    "plt.legend()\n",
    "plt.show()"
   ]
  },
  {
   "cell_type": "code",
   "execution_count": null,
   "id": "9a30952f",
   "metadata": {},
   "outputs": [],
   "source": [
    "plt.style.use('fivethirtyeight')\n",
    "plt.pie(genero_candidato_eleitos.values(), labels = genero_candidato_eleitos.keys(),\n",
    "        autopct = '%1.1f%%', textprops={'fontsize':'16'})\n",
    "plt.axis(\"image\")\n",
    "plt.title(\"GÊNERO DOS CANDIDATOS ELEITOS\",fontsize = 18)\n",
    "plt.tight_layout()\n",
    "plt.legend()\n",
    "plt.show()"
   ]
  },
  {
   "cell_type": "code",
   "execution_count": null,
   "id": "935b311c",
   "metadata": {},
   "outputs": [],
   "source": [
    "df_consulta['NR_IDADE_DATA_POSSE'].describe()"
   ]
  },
  {
   "cell_type": "code",
   "execution_count": null,
   "id": "83afa646",
   "metadata": {},
   "outputs": [],
   "source": [
    "df_consulta_eleitos['NR_IDADE_DATA_POSSE'].describe()"
   ]
  },
  {
   "cell_type": "code",
   "execution_count": null,
   "id": "446d1749",
   "metadata": {},
   "outputs": [],
   "source": [
    "df_consulta.NR_IDADE_DATA_POSSE.hist(bins=20)\n",
    "plt.style.use('seaborn-pastel')\n",
    "plt.xlabel('Idade')\n",
    "plt.ylabel('Números de candidatos')\n",
    "plt.title(\"Idade na possse\")"
   ]
  },
  {
   "cell_type": "code",
   "execution_count": null,
   "id": "72f8534b",
   "metadata": {},
   "outputs": [],
   "source": [
    "df_consulta_eleitos.NR_IDADE_DATA_POSSE.hist(bins=20)\n",
    "plt.style.use('default')\n",
    "plt.xlabel('Idade')\n",
    "plt.ylabel('Números de candidatos eleitos')\n",
    "plt.title(\"Idade na possse - Eleitos\")"
   ]
  },
  {
   "cell_type": "code",
   "execution_count": null,
   "id": "f1f3ce4d",
   "metadata": {},
   "outputs": [],
   "source": [
    "escolaridade_candidatos = Counter(df_consulta['DS_GRAU_INSTRUCAO'])\n",
    "escolaridade_candidatos"
   ]
  },
  {
   "cell_type": "code",
   "execution_count": null,
   "id": "203ff0c7",
   "metadata": {},
   "outputs": [],
   "source": [
    "n_cadidatos=sum(escolaridade_candidatos.values())\n",
    "for x, y in escolaridade_candidatos.items():\n",
    "    a = y/n_cadidatos*100\n",
    "    print(str(x) + ': ' +'\\n'+ str(round(a,2)) + '%' + '\\n')\n",
    "   "
   ]
  },
  {
   "cell_type": "code",
   "execution_count": null,
   "id": "eb867445",
   "metadata": {},
   "outputs": [],
   "source": [
    "lista_escolaridade_candidatos_lables = []\n",
    "lista_escolaridade_candidatos_valores = []\n",
    "for x, y in escolaridade_candidatos.items():\n",
    "    lista_escolaridade_candidatos_lables.append(x)\n",
    "    lista_escolaridade_candidatos_valores.append(y)"
   ]
  },
  {
   "cell_type": "code",
   "execution_count": null,
   "id": "f42ce04f",
   "metadata": {},
   "outputs": [],
   "source": [
    "lista_escolaridade_candidatos_lables"
   ]
  },
  {
   "cell_type": "code",
   "execution_count": null,
   "id": "9c7d4a06",
   "metadata": {},
   "outputs": [],
   "source": [
    "lista_escolaridade_candidatos_valores"
   ]
  },
  {
   "cell_type": "code",
   "execution_count": null,
   "id": "9dd2e343",
   "metadata": {},
   "outputs": [],
   "source": [
    "plt.style.use('seaborn-pastel')\n",
    "plt.barh(lista_escolaridade_candidatos_lables, lista_escolaridade_candidatos_valores)\n",
    "plt.ylabel('escolaridade')\n",
    "plt.xlabel('número de candidatos')\n",
    "plt.title('Candidatos por escolaridade')\n",
    "plt.show()\n"
   ]
  },
  {
   "cell_type": "code",
   "execution_count": null,
   "id": "71a723d2",
   "metadata": {},
   "outputs": [],
   "source": [
    "escolaridade_candidatos_eleitos = Counter(df_consulta_eleitos['DS_GRAU_INSTRUCAO'])\n",
    "escolaridade_candidatos_eleitos"
   ]
  },
  {
   "cell_type": "code",
   "execution_count": null,
   "id": "eedb1795",
   "metadata": {},
   "outputs": [],
   "source": [
    "n_eleitos=sum(escolaridade_candidatos_eleitos.values())\n",
    "for x, y in escolaridade_candidatos_eleitos.items():\n",
    "    a = y/n_eleitos*100\n",
    "    print(str(x) + ': ' +'\\n'+ str(round(a,2)) + '%' + '\\n')"
   ]
  },
  {
   "cell_type": "code",
   "execution_count": null,
   "id": "39c1cdcf",
   "metadata": {},
   "outputs": [],
   "source": [
    "lista_escolaridade_candidatos_eleitos_lables = []\n",
    "lista_escolaridade_candidatos_eleitos_valores = []\n",
    "for x, y in escolaridade_candidatos_eleitos.items():\n",
    "    lista_escolaridade_candidatos_eleitos_lables.append(x)\n",
    "    lista_escolaridade_candidatos_eleitos_valores.append(y)"
   ]
  },
  {
   "cell_type": "code",
   "execution_count": null,
   "id": "52692f18",
   "metadata": {},
   "outputs": [],
   "source": [
    "lista_escolaridade_candidatos_eleitos_lables"
   ]
  },
  {
   "cell_type": "code",
   "execution_count": null,
   "id": "d75f0534",
   "metadata": {},
   "outputs": [],
   "source": [
    "lista_escolaridade_candidatos_eleitos_valores"
   ]
  },
  {
   "cell_type": "code",
   "execution_count": null,
   "id": "5d93f294",
   "metadata": {},
   "outputs": [],
   "source": [
    "plt.style.use('ggplot')\n",
    "plt.barh(lista_escolaridade_candidatos_eleitos_lables, lista_escolaridade_candidatos_eleitos_valores)\n",
    "plt.ylabel('escolaridade')\n",
    "plt.xlabel('número de candidatos')\n",
    "plt.title('Candidatos eleitos por escolaridade')\n",
    "plt.show()"
   ]
  },
  {
   "cell_type": "code",
   "execution_count": null,
   "id": "a8368688",
   "metadata": {},
   "outputs": [],
   "source": [
    "raca_candidatos = Counter(df_consulta['DS_COR_RACA'])\n",
    "raca_candidatos"
   ]
  },
  {
   "cell_type": "code",
   "execution_count": null,
   "id": "148e423f",
   "metadata": {},
   "outputs": [],
   "source": [
    "n_raca = sum(raca_candidatos.values())\n",
    "for x, y in raca_candidatos.items():\n",
    "    a = y/n_raca*100\n",
    "    print(str(x) + ': ' +'\\n'+ str(round(a,2)) + '%' + '\\n')"
   ]
  },
  {
   "cell_type": "code",
   "execution_count": null,
   "id": "c55c10c4",
   "metadata": {},
   "outputs": [],
   "source": [
    "plt.style.use('seaborn-pastel')\n",
    "label_size = 6\n",
    "plt.rcParams['xtick.labelsize'] = label_size \n",
    "plt.bar(raca_candidatos.keys(), raca_candidatos.values())\n",
    "plt.ylabel('Número de candidatos')\n",
    "plt.xlabel('Raça')\n",
    "plt.title('Candidatos por raça')\n",
    "plt.show()"
   ]
  },
  {
   "cell_type": "code",
   "execution_count": null,
   "id": "3b91eb01",
   "metadata": {},
   "outputs": [],
   "source": [
    "raca_candidatos_eleitos = Counter(df_consulta_eleitos['DS_COR_RACA'])\n",
    "raca_candidatos_eleitos "
   ]
  },
  {
   "cell_type": "code",
   "execution_count": null,
   "id": "a762c78c",
   "metadata": {},
   "outputs": [],
   "source": [
    "n_raca_eleitos = sum(raca_candidatos_eleitos.values())\n",
    "for x, y in raca_candidatos_eleitos.items():\n",
    "    a = y/n_raca_eleitos*100\n",
    "    print(str(x) + ': ' +'\\n'+ str(round(a,2)) + '%' + '\\n')"
   ]
  },
  {
   "cell_type": "code",
   "execution_count": null,
   "id": "dffa63ec",
   "metadata": {},
   "outputs": [],
   "source": [
    "plt.style.use('ggplot')\n",
    "label_size = 6\n",
    "plt.rcParams['xtick.labelsize'] = label_size \n",
    "plt.bar(raca_candidatos_eleitos.keys(), raca_candidatos_eleitos.values())\n",
    "plt.ylabel('Número de candidatos eleitos')\n",
    "plt.xlabel('Raça')\n",
    "plt.title('Candidatos eleitos por raça')\n",
    "plt.show()"
   ]
  },
  {
   "cell_type": "code",
   "execution_count": null,
   "id": "0104b8f9",
   "metadata": {},
   "outputs": [],
   "source": [
    "estado_civil_candidatos = Counter(df_consulta['DS_ESTADO_CIVIL'])\n",
    "estado_civil_candidatos"
   ]
  },
  {
   "cell_type": "code",
   "execution_count": null,
   "id": "6ed600ed",
   "metadata": {},
   "outputs": [],
   "source": [
    "n_estado_civil=sum(estado_civil_candidatos.values())\n",
    "for x, y in estado_civil_candidatos.items():\n",
    "    a = y/n_estado_civil*100\n",
    "    print(str(x) + ':' + '\\n' + str (round(a,2)) + '%'+'\\n')"
   ]
  },
  {
   "cell_type": "code",
   "execution_count": null,
   "id": "ce946ad4",
   "metadata": {},
   "outputs": [],
   "source": [
    "lista_estado_civil_candidatos_labels = []\n",
    "lista_estado_civil_candidatos_valores = []\n",
    "for x, y in estado_civil_candidatos.items():\n",
    "    lista_estado_civil_candidatos_labels.append(x)\n",
    "    lista_estado_civil_candidatos_valores.append(y)\n",
    "lista_estado_civil_candidatos_labels"
   ]
  },
  {
   "cell_type": "code",
   "execution_count": null,
   "id": "1bbe40d7",
   "metadata": {},
   "outputs": [],
   "source": [
    "lista_estado_civil_candidatos_labels"
   ]
  },
  {
   "cell_type": "code",
   "execution_count": null,
   "id": "d8f4fbb6",
   "metadata": {},
   "outputs": [],
   "source": [
    "lista_estado_civil_candidatos_valores"
   ]
  },
  {
   "cell_type": "code",
   "execution_count": null,
   "id": "9c8d9dc4",
   "metadata": {},
   "outputs": [],
   "source": [
    "plt.style.use('seaborn-pastel')\n",
    "plt.barh(lista_estado_civil_candidatos_labels, lista_estado_civil_candidatos_valores),\n",
    "plt.ylabel('Estado Civil')\n",
    "plt.xlabel('Número de canditados')\n",
    "plt.title('CANDIDATOS POR ESTADO CIVIL')\n",
    "plt.show()"
   ]
  },
  {
   "cell_type": "code",
   "execution_count": null,
   "id": "c46bedbb",
   "metadata": {},
   "outputs": [],
   "source": [
    "estado_civil_candidatos_eleitos = Counter(df_consulta_eleitos['DS_ESTADO_CIVIL'])\n",
    "estado_civil_candidatos_eleitos"
   ]
  },
  {
   "cell_type": "code",
   "execution_count": null,
   "id": "1ec5eaa7",
   "metadata": {},
   "outputs": [],
   "source": [
    "n_estado_civil_eleitos = sum(estado_civil_candidatos_eleitos.values())\n",
    "for x, y in estado_civil_candidatos_eleitos.items():\n",
    "    a = y/n_estado_civil_eleitos*100\n",
    "    print(str(x) + ':' + '\\n' + str (round(a,2)) + '%'+'\\n')"
   ]
  },
  {
   "cell_type": "code",
   "execution_count": null,
   "id": "6cc9f83f",
   "metadata": {},
   "outputs": [],
   "source": [
    "lista_estado_civil_candidatos_eleitos_labels = []\n",
    "lista_estado_civil_candidatos_eleitos_valores = []\n",
    "for x, y in estado_civil_candidatos_eleitos.items():\n",
    "    lista_estado_civil_candidatos_eleitos_labels.append(x)\n",
    "    lista_estado_civil_candidatos_eleitos_valores.append(y)\n",
    "lista_estado_civil_candidatos_eleitos_labels"
   ]
  },
  {
   "cell_type": "code",
   "execution_count": null,
   "id": "09237da0",
   "metadata": {},
   "outputs": [],
   "source": [
    "lista_estado_civil_candidatos_eleitos_valores"
   ]
  },
  {
   "cell_type": "code",
   "execution_count": null,
   "id": "94f87af8",
   "metadata": {},
   "outputs": [],
   "source": [
    "plt.style.use('ggplot')\n",
    "plt.barh(lista_estado_civil_candidatos_eleitos_labels, lista_estado_civil_candidatos_eleitos_valores),\n",
    "plt.ylabel('Estado Civil')\n",
    "plt.xlabel('Número de canditados')\n",
    "plt.title('CANDIDATOS POR ESTADO CIVIL - ELEITOS')\n",
    "plt.show()"
   ]
  },
  {
   "cell_type": "code",
   "execution_count": null,
   "id": "bfd0170c",
   "metadata": {},
   "outputs": [],
   "source": [
    "df_bem['VR_BEM_CANDIDATO'].describe().astype('int')"
   ]
  },
  {
   "cell_type": "code",
   "execution_count": null,
   "id": "7ddcab86",
   "metadata": {},
   "outputs": [],
   "source": [
    "df_bem.VR_BEM_CANDIDATO.hist(bins=100)\n",
    "plt.style.use('seaborn-pastel')\n",
    "plt.xlabel('Valor')\n",
    "plt.ylabel('Número de bens')\n",
    "plt.title('Bens candidatos - Valores')\n",
    "plt.show()"
   ]
  },
  {
   "cell_type": "code",
   "execution_count": null,
   "id": "22e11625",
   "metadata": {},
   "outputs": [],
   "source": [
    "df_bem.loc[(df_bem['VR_BEM_CANDIDATO'] > 10000000)].info()"
   ]
  },
  {
   "cell_type": "code",
   "execution_count": null,
   "id": "387051a1",
   "metadata": {},
   "outputs": [],
   "source": [
    "for index, row in df_bem.loc[(df_bem['VR_BEM_CANDIDATO'] > 10000000)].iterrows():\n",
    "    print(index)\n",
    "    print('Candidato: ' + str(row['SQ_CANDIDATO']))\n",
    "    print('Tipo de bem: ' + str(row['DS_TIPO_BEM_CANDIDATO']))\n",
    "    print('Descrição: ' + str(row['DS_BEM_CANDIDATO']))\n",
    "    print('Valor: ' + str(row['VR_BEM_CANDIDATO']) + '\\n')\n",
    "    "
   ]
  },
  {
   "cell_type": "code",
   "execution_count": null,
   "id": "409b885a",
   "metadata": {},
   "outputs": [],
   "source": [
    "df_bem = df_bem.loc[(df_bem['VR_BEM_CANDIDATO'] < 1000000)]"
   ]
  },
  {
   "cell_type": "code",
   "execution_count": null,
   "id": "b4449ba2",
   "metadata": {},
   "outputs": [],
   "source": [
    "df_consulta = df_consulta.set_index('SQ_CANDIDATO')"
   ]
  },
  {
   "cell_type": "code",
   "execution_count": null,
   "id": "28e0d020",
   "metadata": {},
   "outputs": [],
   "source": [
    "df_consulta.info()"
   ]
  },
  {
   "cell_type": "code",
   "execution_count": null,
   "id": "a102ae4d",
   "metadata": {},
   "outputs": [],
   "source": [
    "df_consolidado = df_consulta.join(df_bem)"
   ]
  },
  {
   "cell_type": "code",
   "execution_count": null,
   "id": "f5dbafb6",
   "metadata": {},
   "outputs": [],
   "source": [
    "df_consolidado.info()"
   ]
  },
  {
   "cell_type": "code",
   "execution_count": null,
   "id": "b535110b",
   "metadata": {},
   "outputs": [],
   "source": [
    "df_consolidado.isnull().sum()"
   ]
  },
  {
   "cell_type": "code",
   "execution_count": null,
   "id": "e138f945",
   "metadata": {},
   "outputs": [],
   "source": [
    "df_consolidado.fillna(0, inplace = True)"
   ]
  },
  {
   "cell_type": "code",
   "execution_count": null,
   "id": "03b9f8a1",
   "metadata": {},
   "outputs": [],
   "source": [
    "df_consolidado.info()"
   ]
  },
  {
   "cell_type": "code",
   "execution_count": null,
   "id": "470eea9c",
   "metadata": {},
   "outputs": [],
   "source": [
    "df_consolidado_eleitos = df_consolidado[df_consulta.DS_SIT_TOT_TURNO.isin(['ELEITO POR MÉDIA', 'ELEITO POR QP'])]"
   ]
  },
  {
   "cell_type": "code",
   "execution_count": null,
   "id": "56c8c1f0",
   "metadata": {},
   "outputs": [],
   "source": [
    "df_consulta.info()"
   ]
  },
  {
   "cell_type": "code",
   "execution_count": null,
   "id": "adee6d4c",
   "metadata": {},
   "outputs": [],
   "source": [
    "df_consolidado['VR_BEM_CANDIDATO'].describe().astype('int')"
   ]
  },
  {
   "cell_type": "code",
   "execution_count": null,
   "id": "9eaa3675",
   "metadata": {},
   "outputs": [],
   "source": [
    "df_consolidado_eleitos['VR_BEM_CANDIDATO'].describe().astype('int')"
   ]
  },
  {
   "cell_type": "code",
   "execution_count": null,
   "id": "3f2a6be1",
   "metadata": {},
   "outputs": [],
   "source": [
    "df_bem.VR_BEM_CANDIDATO.hist(bins=100)\n",
    "plt.style.use('seaborn-pastel')\n",
    "plt.xlabel('Valor')\n",
    "plt.ylabel('Número de bens')\n",
    "plt.title('Total de bens dos candidatos - Valores')\n",
    "plt.show()"
   ]
  },
  {
   "cell_type": "code",
   "execution_count": null,
   "id": "df03c071",
   "metadata": {},
   "outputs": [],
   "source": [
    "df_consolidado_10mi = df_consolidado.loc[(df_consolidado['VR_BEM_CANDIDATO'] < 100000)]"
   ]
  },
  {
   "cell_type": "code",
   "execution_count": null,
   "id": "6e00cbb1",
   "metadata": {},
   "outputs": [],
   "source": [
    "df_consolidado_10mi.VR_BEM_CANDIDATO.hist(bins=100)\n",
    "plt.style.use('seaborn-pastel')\n",
    "plt.xlabel('Valor')\n",
    "plt.ylabel('Número de candidatos')\n",
    "plt.title('Total de bens dos candidatos até 1 mi')\n",
    "plt.show()"
   ]
  },
  {
   "cell_type": "code",
   "execution_count": null,
   "id": "69b5388b",
   "metadata": {
    "scrolled": true
   },
   "outputs": [],
   "source": [
    "df_despesas_paga.head()"
   ]
  },
  {
   "cell_type": "code",
   "execution_count": null,
   "id": "45aba72f",
   "metadata": {},
   "outputs": [],
   "source": [
    "df_despesas_paga = df_despesas_paga.groupby(['SQ_DESPESA']).sum()"
   ]
  },
  {
   "cell_type": "code",
   "execution_count": null,
   "id": "f88b9382",
   "metadata": {},
   "outputs": [],
   "source": [
    "df_despesas_paga.info()"
   ]
  },
  {
   "cell_type": "code",
   "execution_count": null,
   "id": "007e1f21",
   "metadata": {},
   "outputs": [],
   "source": [
    "df_despesas_contratadas = df_despesas_contratadas.set_index('SQ_DESPESA')"
   ]
  },
  {
   "cell_type": "code",
   "execution_count": null,
   "id": "b0b68fd1",
   "metadata": {},
   "outputs": [],
   "source": [
    "df_despesas_contratadas.info()"
   ]
  },
  {
   "cell_type": "code",
   "execution_count": null,
   "id": "8c3a43f7",
   "metadata": {},
   "outputs": [],
   "source": [
    "df_despesas = df_despesas_contratadas.join(df_despesas_paga)"
   ]
  },
  {
   "cell_type": "code",
   "execution_count": null,
   "id": "34d478c2",
   "metadata": {},
   "outputs": [],
   "source": [
    "df_despesas.info()"
   ]
  },
  {
   "cell_type": "code",
   "execution_count": null,
   "id": "ec714cb2",
   "metadata": {},
   "outputs": [],
   "source": [
    "df_despesas.isnull().sum()"
   ]
  },
  {
   "cell_type": "code",
   "execution_count": null,
   "id": "dd05c62d",
   "metadata": {},
   "outputs": [],
   "source": [
    "df_despesas.fillna(0, inplace=True)"
   ]
  },
  {
   "cell_type": "code",
   "execution_count": null,
   "id": "35713010",
   "metadata": {},
   "outputs": [],
   "source": [
    "df_despesas.isnull().sum()"
   ]
  },
  {
   "cell_type": "code",
   "execution_count": null,
   "id": "101c225d",
   "metadata": {},
   "outputs": [],
   "source": [
    "df_despesas = df_despesas.groupby(['SQ_CANDIDATO']).sum()"
   ]
  },
  {
   "cell_type": "code",
   "execution_count": null,
   "id": "e7de8f9f",
   "metadata": {},
   "outputs": [],
   "source": [
    "df_despesas.info()"
   ]
  },
  {
   "cell_type": "code",
   "execution_count": null,
   "id": "e99d4eab",
   "metadata": {},
   "outputs": [],
   "source": [
    "df_despesas = df_despesas[['VR_PAGTO_DESPESA']]"
   ]
  },
  {
   "cell_type": "code",
   "execution_count": null,
   "id": "1e6fe3a9",
   "metadata": {},
   "outputs": [],
   "source": [
    "df_despesas.info()"
   ]
  },
  {
   "cell_type": "code",
   "execution_count": null,
   "id": "4e15799e",
   "metadata": {},
   "outputs": [],
   "source": [
    "df_deputados_final.info()"
   ]
  },
  {
   "cell_type": "code",
   "execution_count": null,
   "id": "8720ff2e",
   "metadata": {},
   "outputs": [],
   "source": [
    "df_deputados_final.isnull().sum()"
   ]
  },
  {
   "cell_type": "code",
   "execution_count": null,
   "id": "f0a8390e",
   "metadata": {},
   "outputs": [],
   "source": [
    "df_deputados_final.fillna(0, inplace=True)"
   ]
  },
  {
   "cell_type": "code",
   "execution_count": null,
   "id": "e85b3ea2",
   "metadata": {},
   "outputs": [],
   "source": [
    "df_deputados_final.isnull().sum()"
   ]
  },
  {
   "cell_type": "code",
   "execution_count": null,
   "id": "e88df60f",
   "metadata": {},
   "outputs": [],
   "source": [
    "df_deputados_final.eleitos = df_deputados_final[df_deputados_final.DS_SIT_TOT_TURNO.isin\n",
    "                                                (['ELEITO POR MÉDIA', 'ELEITO POR QP'])]"
   ]
  },
  {
   "cell_type": "code",
   "execution_count": null,
   "id": "cf6c2962",
   "metadata": {},
   "outputs": [],
   "source": [
    "df_deputados_final.eleitos.info()"
   ]
  },
  {
   "cell_type": "code",
   "execution_count": null,
   "id": "05359acf",
   "metadata": {},
   "outputs": [],
   "source": [
    "df_deputados_final.eleitos['VR_PAGTO_DESPESA'].describe().astype('int')"
   ]
  },
  {
   "cell_type": "code",
   "execution_count": null,
   "id": "3df15c84",
   "metadata": {},
   "outputs": [],
   "source": [
    "df_deputados_final.VR_PAGTO_DESPESA.hist(bins=100)\n",
    "plt.style.use('seaborn-pastel')\n",
    "plt.xlabel('Valor')\n",
    "plt.ylabel('Número de candidatos')\n",
    "plt.title('Total de despesas dos candidatos')\n",
    "plt.show()"
   ]
  },
  {
   "cell_type": "code",
   "execution_count": null,
   "id": "133251f7",
   "metadata": {},
   "outputs": [],
   "source": [
    "df_deputados_final.eleitos.VR_PAGTO_DESPESA.hist(bins=100)\n",
    "plt.style.use('ggplot')\n",
    "plt.xlabel('Valor')\n",
    "plt.ylabel('Número de candidatos eleitos')\n",
    "plt.title('Total de despesas dos candidatos eleitos')\n",
    "plt.show()"
   ]
  },
  {
   "cell_type": "code",
   "execution_count": null,
   "id": "697b0852",
   "metadata": {},
   "outputs": [],
   "source": [
    "df_deputados_final['DS_GENERO'].unique()"
   ]
  },
  {
   "cell_type": "code",
   "execution_count": null,
   "id": "d6980bb4",
   "metadata": {},
   "outputs": [],
   "source": [
    "df_deputados_final['DS_GRAU_INSTRUCAO'].unique()"
   ]
  },
  {
   "cell_type": "code",
   "execution_count": null,
   "id": "0ff417bc",
   "metadata": {},
   "outputs": [],
   "source": [
    "df_deputados_final['DS_ESTADO_CIVIL'].unique()"
   ]
  },
  {
   "cell_type": "code",
   "execution_count": null,
   "id": "d458c3db",
   "metadata": {},
   "outputs": [],
   "source": [
    "df_deputados_final['DS_COR_RACA'].unique()"
   ]
  },
  {
   "cell_type": "code",
   "execution_count": null,
   "id": "ac906861",
   "metadata": {},
   "outputs": [],
   "source": [
    "df_deputados_final['DS_SIT_TOT_TURNO'].unique()"
   ]
  },
  {
   "cell_type": "code",
   "execution_count": null,
   "id": "a2fd5252",
   "metadata": {},
   "outputs": [],
   "source": [
    "ajuste_ensino = {'LÊ E ESCREVE': 1, 'ENSINO FUNDAMENTAL INCOMPLETO': 2,\n",
    "'ENSINO FUNDAMENTAL COMPLETO': 3, 'ENSINO MÉDIO INCOMPLETO': 4,\n",
    "'ENSINO MÉDIO COMPLETO': 5, 'SUPERIOR INCOMPLETO': 6, 'SUPERIOR COMPLETO': 7}\n",
    "df_deputados_final['DS_GRAU_INSTRUCAO'] = df_deputados_final['DS_GRAU_INSTRUCAO'].map(ajuste_ensino)"
   ]
  },
  {
   "cell_type": "code",
   "execution_count": null,
   "id": "f9dd9a00",
   "metadata": {},
   "outputs": [],
   "source": [
    "df_deputados_final['DS_GRAU_INSTRUCAO'].unique()"
   ]
  },
  {
   "cell_type": "code",
   "execution_count": null,
   "id": "455759f4",
   "metadata": {},
   "outputs": [],
   "source": [
    "ajuste_eleito = {'ELEITO POR QP': 1, 'SUPLENTE': 0, 'NÃO ELEITO': 0, 'ELEITO POR MÉDIA': 1}\n",
    "df_deputados_final['DS_SIT_TOT_TURNO'] = df_deputados_final['DS_SIT_TOT_TURNO'].map(ajuste_eleito)"
   ]
  },
  {
   "cell_type": "code",
   "execution_count": null,
   "id": "cb7bb47d",
   "metadata": {},
   "outputs": [],
   "source": [
    "df_deputados_final['DS_SIT_TOT_TURNO'].unique()"
   ]
  },
  {
   "cell_type": "code",
   "execution_count": null,
   "id": "816bc776",
   "metadata": {},
   "outputs": [],
   "source": [
    "df_deputados_final = pd.get_dummies(df_deputados_final[['NR_IDADE_DATA_POSSE', 'DS_GENERO', \n",
    "'DS_GRAU_INSTRUCAO', 'DS_ESTADO_CIVIL', 'DS_COR_RACA', 'DS_SIT_TOT_TURNO','VR_BEM_CANDIDATO', 'VR_PAGTO_DESPESA' ]])"
   ]
  },
  {
   "cell_type": "code",
   "execution_count": null,
   "id": "bd664e00",
   "metadata": {},
   "outputs": [],
   "source": [
    "df_deputados_final.info() "
   ]
  },
  {
   "cell_type": "code",
   "execution_count": null,
   "id": "11145914",
   "metadata": {},
   "outputs": [],
   "source": [
    "df_deputados_final['DS_GENERO_FEMININO'].unique()"
   ]
  },
  {
   "cell_type": "code",
   "execution_count": null,
   "id": "feb16d0b",
   "metadata": {},
   "outputs": [],
   "source": [
    "df_deputados_final['DS_SIT_TOT_TURNO'].value_counts()"
   ]
  },
  {
   "cell_type": "code",
   "execution_count": null,
   "id": "d0970bbb",
   "metadata": {},
   "outputs": [],
   "source": [
    "from sklearn.utils import resample"
   ]
  },
  {
   "cell_type": "code",
   "execution_count": null,
   "id": "239be8b8",
   "metadata": {},
   "outputs": [],
   "source": [
    "df_deputados_final_majority = df_deputados_final[df_deputados_final.DS_SIT_TOT_TURNO==0]\n",
    "df_deputados_final_majority.info()"
   ]
  },
  {
   "cell_type": "code",
   "execution_count": null,
   "id": "23111748",
   "metadata": {},
   "outputs": [],
   "source": [
    "df_deputados_final_minority = df_deputados_final[df_deputados_final.DS_SIT_TOT_TURNO==1]\n",
    "df_deputados_final_minority.info()"
   ]
  },
  {
   "cell_type": "code",
   "execution_count": null,
   "id": "ca693103",
   "metadata": {},
   "outputs": [],
   "source": [
    "df_deputados_final_minority_upsampled = resample(df_deputados_final_minority, replace=True, n_samples=57999,\n",
    "random_state=123)"
   ]
  },
  {
   "cell_type": "code",
   "execution_count": null,
   "id": "8b7ab832",
   "metadata": {},
   "outputs": [],
   "source": [
    "df_deputados_final_minority_upsampled.info()"
   ]
  },
  {
   "cell_type": "code",
   "execution_count": null,
   "id": "0e9cab42",
   "metadata": {},
   "outputs": [],
   "source": [
    "df_deputados_final_upsampled = pd.concat([df_deputados_final_majority, \n",
    "                                          df_deputados_final_minority_upsampled])\n",
    "\n",
    "df_deputados_final_upsampled.info()"
   ]
  },
  {
   "cell_type": "code",
   "execution_count": null,
   "id": "2b8c4576",
   "metadata": {},
   "outputs": [],
   "source": [
    "df_deputados_final_upsampled['DS_SIT_TOT_TURNO'].value_counts() "
   ]
  },
  {
   "cell_type": "code",
   "execution_count": null,
   "id": "e2921cb8",
   "metadata": {},
   "outputs": [],
   "source": [
    "from sklearn.model_selection import train_test_split"
   ]
  },
  {
   "cell_type": "code",
   "execution_count": null,
   "id": "23591578",
   "metadata": {},
   "outputs": [],
   "source": [
    "X_train = df_deputados_final_upsampled.drop(['DS_SIT_TOT_TURNO'], axis = 1)\n",
    "y_train = df_deputados_final_upsampled.DS_SIT_TOT_TURNO\n",
    "X_train.info()\n",
    "type(y_train)"
   ]
  },
  {
   "cell_type": "code",
   "execution_count": null,
   "id": "73f312b2",
   "metadata": {},
   "outputs": [],
   "source": [
    "X_train.info()"
   ]
  },
  {
   "cell_type": "code",
   "execution_count": null,
   "id": "7c9b58bf",
   "metadata": {},
   "outputs": [],
   "source": [
    "type(y_train)"
   ]
  },
  {
   "cell_type": "code",
   "execution_count": null,
   "id": "30d6297c",
   "metadata": {},
   "outputs": [],
   "source": [
    "xtreinamento, xteste, ytreinamento, yteste = train_test_split(X_train, y_train, random_state = 0)"
   ]
  },
  {
   "cell_type": "code",
   "execution_count": null,
   "id": "2a40e010",
   "metadata": {},
   "outputs": [],
   "source": [
    "xtreinamento.info()"
   ]
  },
  {
   "cell_type": "code",
   "execution_count": null,
   "id": "396e7380",
   "metadata": {},
   "outputs": [],
   "source": [
    "xteste.info()"
   ]
  },
  {
   "cell_type": "code",
   "execution_count": null,
   "id": "da7b2a44",
   "metadata": {},
   "outputs": [],
   "source": [
    "ytreinamento.count()"
   ]
  },
  {
   "cell_type": "code",
   "execution_count": null,
   "id": "c7b55366",
   "metadata": {},
   "outputs": [],
   "source": [
    "yteste.count()"
   ]
  },
  {
   "cell_type": "code",
   "execution_count": null,
   "id": "21b55e60",
   "metadata": {},
   "outputs": [],
   "source": [
    "from sklearn.metrics import accuracy_score, classification_report"
   ]
  },
  {
   "cell_type": "code",
   "execution_count": null,
   "id": "9c6845c4",
   "metadata": {},
   "outputs": [],
   "source": [
    "from sklearn.tree import DecisionTreeClassifier\n",
    "from sklearn import tree\n",
    "deputados_tree = DecisionTreeClassifier()\n",
    "deputados_tree = decision_tree.fit(xtreinamento, ytreinamento)\n",
    "\n",
    "print(\"Acurácia: \", deputados_tree.score(xtreinamento, ytreinamento))\n",
    "Train_predict = deputados_tree.predict(xteste)\n",
    "print(\"Acurácia de previsão: \", accuracy_score(yteste, Train_predict))\n",
    "print(classification_report(yteste, Train_predict))"
   ]
  },
  {
   "cell_type": "code",
   "execution_count": null,
   "id": "bbdc638d",
   "metadata": {},
   "outputs": [],
   "source": [
    "from sklearn.linear_model import LogisticRegression\n",
    "lr = LogisticRegression()\n",
    "lr = lr.fit(xtreinamento, ytreinamento)\n",
    "print(\"Acurácia: \", lr.score(xtreinamento, ytreinamento))\n",
    "tp_lr = lr.predict(xteste)\n",
    "print(\"Acurácia de previsão: \", accuracy_score(yteste, tp_lr))\n",
    "print(classification_report(yteste, tp_lr))"
   ]
  },
  {
   "cell_type": "code",
   "execution_count": null,
   "id": "7064a5a5",
   "metadata": {},
   "outputs": [],
   "source": [
    "from sklearn.naive_bayes import GaussianNB\n",
    "nb = GaussianNB()\n",
    "nb = nb.fit(xtreinamento, ytreinamento)\n",
    "print(\"Acurácia: \", nb.score(xtreinamento, ytreinamento)) tp_nb = nb.predict(xteste)\n",
    "print(\"Acurácia de previsão: \", accuracy_score(yteste, tp_nb))\n",
    "print(Classification_report(yteste, tp_nb))"
   ]
  },
  {
   "cell_type": "code",
   "execution_count": null,
   "id": "cbe30c1d",
   "metadata": {},
   "outputs": [],
   "source": [
    "from sklearn.linear_model import SGDClassifier\n",
    "sgd = SGDClassifier()\n",
    "sgd = sgd.fit(xtreinamento, ytreinamento)\n",
    "print(\"Acurácia: \", sgd.score(xtreinamento, ytreinamento))\n",
    "tp_sgd = sgd.predict(xteste)\n",
    "print(\"Acurácia de previsão: \", accuracy_score(yteste, tp_sgd))\n",
    "print(classification_report(yteste, tp_sgd))"
   ]
  },
  {
   "cell_type": "code",
   "execution_count": null,
   "id": "35cc9748",
   "metadata": {},
   "outputs": [],
   "source": [
    "from sklearn.neighbors import KNeighborsClassifier\n",
    "knn = KNeighborsClassifier()\n",
    "knn = knn.fit(xtreinamento, ytreinamento)\n",
    "print(\"Acurácia: \", knn.score(xtreinamento, ytreinamento))\n",
    "tp_knn = knn.predict(xteste)\n",
    "print(\"Acurácia de previsão: \", accuracy_score(yteste, tp_knn))\n",
    "print(classification_report(yteste, tp_knn))"
   ]
  },
  {
   "cell_type": "code",
   "execution_count": null,
   "id": "4bdea2eb",
   "metadata": {},
   "outputs": [],
   "source": [
    "from sklearn.ensemble import RandomForestClassifier\n",
    "rfm = RandomForestClassifier()\n",
    "rfm = rfm.fit(xtreinamento, ytreinamento)\n",
    "print(\"Acurácia: \", rfm.score(xtreinamento, ytreinamento))\n",
    "tp_rfm = rfm.predict(xteste)\n",
    "print(\"Acurácia de previsão: \", accuracy_score(yteste, tp_rfm))\n",
    "print(Classifiction_report(yteste, tp_rfm))"
   ]
  },
  {
   "cell_type": "code",
   "execution_count": null,
   "id": "637b90a5",
   "metadata": {},
   "outputs": [],
   "source": []
  },
  {
   "cell_type": "code",
   "execution_count": null,
   "id": "1733aab6",
   "metadata": {},
   "outputs": [],
   "source": []
  },
  {
   "cell_type": "code",
   "execution_count": null,
   "id": "e7cb5c41",
   "metadata": {},
   "outputs": [],
   "source": []
  },
  {
   "cell_type": "code",
   "execution_count": null,
   "id": "67ddc5bf",
   "metadata": {},
   "outputs": [],
   "source": []
  },
  {
   "cell_type": "code",
   "execution_count": null,
   "id": "61e3f846",
   "metadata": {},
   "outputs": [],
   "source": []
  },
  {
   "cell_type": "code",
   "execution_count": null,
   "id": "3cf78c59",
   "metadata": {},
   "outputs": [],
   "source": []
  }
 ],
 "metadata": {
  "kernelspec": {
   "display_name": "Python 3 (ipykernel)",
   "language": "python",
   "name": "python3"
  },
  "language_info": {
   "codemirror_mode": {
    "name": "ipython",
    "version": 3
   },
   "file_extension": ".py",
   "mimetype": "text/x-python",
   "name": "python",
   "nbconvert_exporter": "python",
   "pygments_lexer": "ipython3",
   "version": "3.9.7"
  }
 },
 "nbformat": 4,
 "nbformat_minor": 5
}
